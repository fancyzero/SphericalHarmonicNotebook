{
 "cells": [
  {
   "cell_type": "markdown",
   "metadata": {},
   "source": [
    "\n",
    "# 投影和重建\n",
    "## 投影\n",
    "### 笛卡尔坐标系\n",
    "设在三维空间有一个向量，(x,y,z),然后这个空间有3个正交基(1,0,0),(0,1,0),(0,0,1)，那么我们将这个向量通过点乘的方法投影到这3个正交基上，分别得到3个系数，x，y，z\n",
    "然后分别将这3个系数乘以三个基并且累加就可以还原这个向量的位置 = x*(1,0,0)+y*(0,1,0)+z*(0,0,1) = (x,y,z)\n",
    "\n",
    "<img src=\"Images/plt1.png\">\n",
    "\n",
    "这个概念可以推广到N维空间\n",
    "\n",
    "### Vector Space\n",
    "\n",
    "步骤如下:\n",
    "\n",
    "设有一个连续的函数F(x)\n",
    "\n",
    "<img src=\"Images/func1.png\" >\n",
    "\n",
    "我们可以在一定区间内对其采样，得到N个sample，[x1,x2,x3,x4.....xn]，这样一个数组也可以将其看作一个N维的向量\n",
    "\n",
    "<img src=\"Images/samplefunc.png\" >\n",
    "\n",
    "设有一组基函数e(x)，他们只在采样点返回1，其余点返回0\n",
    "\n",
    "<img src=\"Images/basis.png\" >\n",
    "\n",
    "对他们进行采样也能等到一组N维向量，基于定义我们得到的向量如下：\n",
    "\n",
    "e0=[1,0,0,0,0,0,0...]\n",
    "\n",
    "e1=[0,1,0,0,0,0,0...]\n",
    "\n",
    "e2=[0,0,1,0,0,0,0...]\n",
    "\n",
    "...\n",
    "\n",
    "显然，他们两两正交\n",
    "\n",
    "将刚才对原函数的采样得到的N维向量一次和这些基向量点乘，我们就完成了将原函数投影到一组正交基的过程\n",
    "\n",
    "<img src=\"Images/projection.png\" >\n",
    "\n",
    "显然，如果我们过把N个sample逐个乘以基函数，然后将他们累加起来，就可以重建原函数\n",
    "\n",
    "<img src=\"Images/rebuilt2.png\" >\n",
    "\n",
    "<img src=\"Images/rebuilt.png\" >\n",
    "\n"
   ]
  }
 ],
 "metadata": {
  "interpreter": {
   "hash": "afe1b852320376a9a48055bdfe6ac9b09e17658875aefa9b83cc552fb632d8c5"
  },
  "kernelspec": {
   "display_name": "Python 3 (ipykernel)",
   "language": "python",
   "name": "python3"
  },
  "language_info": {
   "codemirror_mode": {
    "name": "ipython",
    "version": 3
   },
   "file_extension": ".py",
   "mimetype": "text/x-python",
   "name": "python",
   "nbconvert_exporter": "python",
   "pygments_lexer": "ipython3",
   "version": "3.10.2"
  }
 },
 "nbformat": 4,
 "nbformat_minor": 2
}
