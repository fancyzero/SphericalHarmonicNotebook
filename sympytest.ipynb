{
 "cells": [
  {
   "cell_type": "markdown",
   "metadata": {},
   "source": []
  },
  {
   "cell_type": "code",
   "execution_count": 3,
   "metadata": {},
   "outputs": [
    {
     "name": "stdout",
     "output_type": "stream",
     "text": [
      " 2\n",
      "x \n"
     ]
    }
   ],
   "source": [
    "import sympy\n",
    "from sympy import Symbol\n",
    "\n",
    "x = Symbol(\"x\")\n",
    "y = Symbol(\"y\")\n",
    "\n",
    "sympy.init_printing()\n",
    "\n",
    "expr=x**2+y**2 \n",
    "\n",
    "expr.subs(x,2)\n",
    "expr.subs(y,3)\n",
    "expr"
   ]
  }
 ],
 "metadata": {
  "interpreter": {
   "hash": "afe1b852320376a9a48055bdfe6ac9b09e17658875aefa9b83cc552fb632d8c5"
  },
  "kernelspec": {
   "display_name": "Python 3.10.2 64-bit",
   "language": "python",
   "name": "python3"
  },
  "language_info": {
   "codemirror_mode": {
    "name": "ipython",
    "version": 3
   },
   "file_extension": ".py",
   "mimetype": "text/x-python",
   "name": "python",
   "nbconvert_exporter": "python",
   "pygments_lexer": "ipython3",
   "version": "3.10.2"
  },
  "orig_nbformat": 4
 },
 "nbformat": 4,
 "nbformat_minor": 2
}
